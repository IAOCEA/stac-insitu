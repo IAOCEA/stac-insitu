{
 "cells": [
  {
   "cell_type": "code",
   "execution_count": null,
   "id": "0",
   "metadata": {
    "tags": []
   },
   "outputs": [],
   "source": [
    "import pystac_client\n",
    "from odc.geo import BoundingBox"
   ]
  },
  {
   "cell_type": "code",
   "execution_count": null,
   "id": "1",
   "metadata": {
    "tags": []
   },
   "outputs": [],
   "source": [
    "client = pystac_client.Client.open(\"http://127.0.0.1:9588\")\n",
    "client"
   ]
  },
  {
   "cell_type": "code",
   "execution_count": null,
   "id": "2",
   "metadata": {
    "tags": []
   },
   "outputs": [],
   "source": [
    "import folium\n",
    "from folium.plugins.timestamped_geo_json import TimestampedGeoJson\n",
    "from tlz.functoolz import curry"
   ]
  },
  {
   "cell_type": "code",
   "execution_count": null,
   "id": "3",
   "metadata": {
    "tags": []
   },
   "outputs": [],
   "source": [
    "categories = {\n",
    "    \"bo\": \"#008888\",\n",
    "    \"db\": \"#880000\",\n",
    "    \"ml\": \"#880088\",\n",
    "    \"mo\": \"#888800\",\n",
    "    \"pf\": \"#000088\",\n",
    "    \"rf\": \"#008800\",\n",
    "    \"tg\": \"#ff88ff\",\n",
    "    \"ts\": \"#81d4fa\",\n",
    "}\n",
    "\n",
    "\n",
    "def style_function(_, category):\n",
    "    fill_color = categories.get(category, \"#000000\")\n",
    "    style = {\n",
    "        # \"fillColor\": fill_color,\n",
    "        \"color\": fill_color,\n",
    "    }\n",
    "\n",
    "    return {k: v for k, v in style.items() if v is not None}"
   ]
  },
  {
   "cell_type": "code",
   "execution_count": null,
   "id": "4",
   "metadata": {
    "tags": []
   },
   "outputs": [],
   "source": [
    "def extract_category(id):\n",
    "    return id.split(\"-\")[-1].lower()"
   ]
  },
  {
   "cell_type": "code",
   "execution_count": null,
   "id": "5",
   "metadata": {},
   "outputs": [],
   "source": [
    "from tlz.itertoolz import groupby"
   ]
  },
  {
   "cell_type": "code",
   "execution_count": null,
   "id": "6",
   "metadata": {
    "tags": []
   },
   "outputs": [],
   "source": [
    "def as_geojson(items, style_function):\n",
    "    for item in items:\n",
    "        category = extract_category(item.collection_id)\n",
    "\n",
    "        marker = folium.CircleMarker()\n",
    "        yield folium.GeoJson(\n",
    "            item.geometry,\n",
    "            style_function=curry(style_function, category=category),\n",
    "            marker=marker,\n",
    "        )\n",
    "\n",
    "\n",
    "def as_timestamped_geojson(items, style_function):\n",
    "    def as_timestamped(item):\n",
    "        category = extract_category(item.collection_id)\n",
    "\n",
    "        style = style_function(None, category)\n",
    "        return {\n",
    "            \"type\": \"Feature\",\n",
    "            \"geometry\": item.geometry,\n",
    "            \"properties\": {\n",
    "                \"times\": item.properties[\"time\"],\n",
    "                \"style\": style,\n",
    "            },\n",
    "        }\n",
    "\n",
    "    features = [as_timestamped(item) for item in items]\n",
    "\n",
    "    yield TimestampedGeoJson(\n",
    "        {\"type\": \"FeatureCollection\", \"features\": features}, duration=\"P10M\"\n",
    "    )\n",
    "\n",
    "\n",
    "def visualize_items(items, style_function):\n",
    "    def predicate(item):\n",
    "        if \"time\" in item.properties and item.geometry[\"type\"] == \"LineString\":\n",
    "            type_ = \"trajectory\"\n",
    "        else:\n",
    "            type_ = \"static\"\n",
    "\n",
    "        return type_\n",
    "\n",
    "    grouped = groupby(predicate, items)\n",
    "    transforms = {\n",
    "        \"static\": as_geojson,\n",
    "        \"trajectory\": as_timestamped_geojson,\n",
    "    }\n",
    "\n",
    "    for group, elems in grouped.items():\n",
    "        transform = transforms.get(group)\n",
    "        yield from transform(elems, style_function=style_function)"
   ]
  },
  {
   "cell_type": "raw",
   "id": "7",
   "metadata": {
    "tags": []
   },
   "source": [
    "categories = {extract_category(item.collection_id) for item in items}\n",
    "categories"
   ]
  },
  {
   "cell_type": "code",
   "execution_count": null,
   "id": "8",
   "metadata": {
    "tags": []
   },
   "outputs": [],
   "source": [
    "def visualize_search(extent, items, m=None):\n",
    "    if m is None:\n",
    "        m = folium.Map(width=\"80%\", height=\"80%\", tiles=\"cartodbpositron\")\n",
    "\n",
    "    folium.GeoJson(extent.geojson()).add_to(m)\n",
    "    for elem in visualize_items(items, style_function=style_function):\n",
    "        elem.add_to(m)\n",
    "\n",
    "    return m"
   ]
  },
  {
   "cell_type": "code",
   "execution_count": null,
   "id": "9",
   "metadata": {},
   "outputs": [],
   "source": [
    "import pandas as pd\n",
    "import geopandas as gpd\n",
    "import movingpandas as mpd\n",
    "\n",
    "import shapely\n",
    "\n",
    "from tlz.itertoolz import remove\n",
    "\n",
    "\n",
    "def extract_trajectory(item):\n",
    "    geometry = item.geometry\n",
    "    coordinates = shapely.points(geometry[\"coordinates\"])\n",
    "    time = pd.to_datetime(item.properties[\"time\"], format=\"ISO8601\").astype(\n",
    "        \"datetime64[s]\"\n",
    "    )\n",
    "\n",
    "    # TODO: find the crs info from the item properties\n",
    "    gdf = gpd.GeoDataFrame({\"time\": time}, geometry=coordinates, crs=4326).set_index(\n",
    "        \"time\"\n",
    "    )\n",
    "    return mpd.Trajectory(gdf, traj_id=item.id)\n",
    "\n",
    "\n",
    "def filter_trajectories(items, geometry, timespan):\n",
    "    def predicate(item):\n",
    "        traj = extract_trajectory(item)\n",
    "\n",
    "        segment = traj.get_segment_between(*pd.to_datetime(timespan))\n",
    "        return not segment.intersects(geometry)\n",
    "\n",
    "    return list(remove(predicate, items))"
   ]
  },
  {
   "cell_type": "code",
   "execution_count": null,
   "id": "10",
   "metadata": {},
   "outputs": [],
   "source": [
    "geometry = BoundingBox(-15, 43, 5, 50).boundary()\n",
    "timespan = [\"2019-11-01\", \"2019-11-15\"]\n",
    "\n",
    "unfiltered = client.search(\n",
    "    collections=[\"TS\"],\n",
    "    intersects=geometry,\n",
    "    datetime=timespan,\n",
    "    limit=100,\n",
    ").item_collection()\n",
    "\n",
    "filtered = filter_trajectories(unfiltered, geometry.geom, timespan)\n",
    "len(unfiltered), len(filtered)"
   ]
  },
  {
   "cell_type": "code",
   "execution_count": null,
   "id": "11",
   "metadata": {
    "tags": []
   },
   "outputs": [],
   "source": [
    "m = folium.plugins.DualMap(layout=\"horizontal\", tiles=\"cartodbpositron\")\n",
    "visualize_search(geometry, unfiltered, m=m.m1)\n",
    "visualize_search(geometry, filtered, m=m.m2)\n",
    "\n",
    "m"
   ]
  },
  {
   "cell_type": "code",
   "execution_count": null,
   "id": "12",
   "metadata": {},
   "outputs": [],
   "source": []
  }
 ],
 "metadata": {
  "language_info": {
   "codemirror_mode": {
    "name": "ipython",
    "version": 3
   },
   "file_extension": ".py",
   "mimetype": "text/x-python",
   "name": "python",
   "nbconvert_exporter": "python",
   "pygments_lexer": "ipython3"
  }
 },
 "nbformat": 4,
 "nbformat_minor": 5
}
