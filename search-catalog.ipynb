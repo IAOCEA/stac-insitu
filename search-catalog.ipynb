{
 "cells": [
  {
   "cell_type": "code",
   "execution_count": null,
   "id": "24aec7a8-d757-47b8-ac12-c19ddd3255e1",
   "metadata": {
    "tags": []
   },
   "outputs": [],
   "source": [
    "import pystac_client\n",
    "from odc.geo import BoundingBox"
   ]
  },
  {
   "cell_type": "code",
   "execution_count": null,
   "id": "ff7fec40-1cdf-4019-b5ba-3414d261a097",
   "metadata": {
    "tags": []
   },
   "outputs": [],
   "source": [
    "client = pystac_client.Client.open(\"http://127.0.0.1:9588\")\n",
    "client"
   ]
  },
  {
   "cell_type": "raw",
   "id": "cf0adf9d-751e-4a00-8d72-7136341f6d70",
   "metadata": {
    "tags": []
   },
   "source": [
    "extent = BoundingBox(-15, 43, 5, 50)\n",
    "extent.boundary()"
   ]
  },
  {
   "cell_type": "code",
   "execution_count": null,
   "id": "d5f7ac38-d056-465a-acc0-0a9665caff94",
   "metadata": {
    "tags": []
   },
   "outputs": [],
   "source": [
    "import folium\n",
    "from toolz.functoolz import curry"
   ]
  },
  {
   "cell_type": "code",
   "execution_count": null,
   "id": "0df83577-9476-49d4-8d55-987c7e1fd78a",
   "metadata": {
    "tags": []
   },
   "outputs": [],
   "source": [
    "categories = {\n",
    "    \"bo\": \"#008888\",\n",
    "    \"db\": \"#880000\",\n",
    "    \"ml\": \"#880088\",\n",
    "    \"mo\": \"#888800\",\n",
    "    \"pf\": \"#000088\",\n",
    "    \"rf\": \"#008800\",\n",
    "    \"tg\": \"#ff88ff\",\n",
    "    \"ts\": \"#81d4fa\",\n",
    "}\n",
    "\n",
    "\n",
    "def style_function(_, category):\n",
    "    fill_color = categories.get(category, \"#000000\")\n",
    "    style = {\n",
    "        # \"fillColor\": fill_color,\n",
    "        \"color\": fill_color,\n",
    "    }\n",
    "\n",
    "    return {k: v for k, v in style.items() if v is not None}"
   ]
  },
  {
   "cell_type": "code",
   "execution_count": null,
   "id": "2b14ce8b-8558-4e29-8640-50e2fd10e134",
   "metadata": {
    "tags": []
   },
   "outputs": [],
   "source": [
    "def extract_category(id):\n",
    "    return id.split(\"-\")[-1].lower()"
   ]
  },
  {
   "cell_type": "code",
   "execution_count": null,
   "id": "974e6c11-4955-47c7-b96f-59dc000f93a5",
   "metadata": {
    "tags": []
   },
   "outputs": [],
   "source": [
    "def visualize_item(item):\n",
    "    category = extract_category(item.collection_id)\n",
    "\n",
    "    marker = folium.CircleMarker()\n",
    "    return folium.GeoJson(\n",
    "        item.geometry,\n",
    "        style_function=curry(style_function, category=category),\n",
    "        marker=marker,\n",
    "    )"
   ]
  },
  {
   "cell_type": "raw",
   "id": "76265907-a219-4a4a-8eaf-e121e896b5e5",
   "metadata": {
    "tags": []
   },
   "source": [
    "categories = {extract_category(item.collection_id) for item in items}\n",
    "categories"
   ]
  },
  {
   "cell_type": "code",
   "execution_count": null,
   "id": "4ef22524-dfdb-4e93-82c8-921234c30ca3",
   "metadata": {
    "tags": []
   },
   "outputs": [],
   "source": [
    "def visualize_search(extent, items):\n",
    "    m = folium.Map(width=\"80%\", height=\"80%\", tiles=\"cartodbpositron\")\n",
    "\n",
    "    folium.GeoJson(extent.boundary().geojson()).add_to(m)\n",
    "    for item in items:\n",
    "        visualize_item(item).add_to(m)\n",
    "\n",
    "    return m"
   ]
  },
  {
   "cell_type": "code",
   "execution_count": null,
   "id": "fd3efc22-4ae5-46bf-a55a-0125cd7ad2f1",
   "metadata": {
    "tags": []
   },
   "outputs": [],
   "source": [
    "extent = BoundingBox(-15, 43, 5, 50)\n",
    "items = client.search(\n",
    "    datetime=\"2022-06-01/2022-06-30\", bbox=extent.bbox\n",
    ").item_collection()\n",
    "items"
   ]
  },
  {
   "cell_type": "code",
   "execution_count": null,
   "id": "dc9746cc-efc6-457b-8e23-6fd2f35872b1",
   "metadata": {
    "tags": []
   },
   "outputs": [],
   "source": [
    "import xarray as xr\n",
    "import fsspec"
   ]
  },
  {
   "cell_type": "code",
   "execution_count": null,
   "id": "076811d9-c61e-4099-a0b7-54a4cdf68c1c",
   "metadata": {},
   "outputs": [],
   "source": [
    "asset = items[0].assets[\"https\"]\n",
    "fs = fsspec.filesystem(\"http\")\n",
    "xr.open_dataset(fs.open(asset.href), **asset.extra_fields[\"xarray:open_kwargs\"])"
   ]
  },
  {
   "cell_type": "code",
   "execution_count": null,
   "id": "6d7bd456-ed02-449c-9a86-3e73d5b43cf4",
   "metadata": {},
   "outputs": [],
   "source": []
  }
 ],
 "metadata": {
  "language_info": {
   "codemirror_mode": {
    "name": "ipython",
    "version": 3
   },
   "file_extension": ".py",
   "mimetype": "text/x-python",
   "name": "python",
   "nbconvert_exporter": "python",
   "pygments_lexer": "ipython3"
  }
 },
 "nbformat": 4,
 "nbformat_minor": 5
}
